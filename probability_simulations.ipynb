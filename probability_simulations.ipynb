{
 "cells": [
  {
   "cell_type": "markdown",
   "metadata": {},
   "source": [
    "# Probability simulations \n",
    "\n",
    "https://rafalab.github.io/dsbook/probability.html#discrete-probability\n",
    "\n",
    "https://rafalab.github.io/dsbook/probability.html#combinations-and-permutations"
   ]
  },
  {
   "cell_type": "code",
   "execution_count": 1,
   "metadata": {
    "ExecuteTime": {
     "end_time": "2020-03-28T18:58:58.470840Z",
     "start_time": "2020-03-28T18:58:57.197143Z"
    }
   },
   "outputs": [],
   "source": [
    "import numpy as np\n",
    "import pandas as pd\n",
    "import matplotlib.pyplot as plt\n",
    "%matplotlib inline \n",
    "from multiprocessing import Pool, cpu_count\n",
    "from datetime import date, timedelta\n",
    "from IPython.display import display, Markdown, Latex\n",
    "\n",
    "# select a random seed \n",
    "np.random.seed(23)"
   ]
  },
  {
   "cell_type": "markdown",
   "metadata": {},
   "source": [
    "## Urn problem\n",
    "\n",
    "Create a urn with 5 balls, 2 balls are red and 3 balls are blue. "
   ]
  },
  {
   "cell_type": "code",
   "execution_count": 2,
   "metadata": {
    "ExecuteTime": {
     "end_time": "2020-03-28T18:58:58.768178Z",
     "start_time": "2020-03-28T18:58:58.757340Z"
    }
   },
   "outputs": [
    {
     "name": "stdout",
     "output_type": "stream",
     "text": [
      "['red' 'red' 'blue' 'blue' 'blue']\n"
     ]
    }
   ],
   "source": [
    "x = np.array([\"red\", \"blue\"])\n",
    "beads = np.repeat(x, [2, 3], axis=0)\n",
    "print(beads)"
   ]
  },
  {
   "cell_type": "markdown",
   "metadata": {},
   "source": [
    "What is the chance of picking a blue ball?"
   ]
  },
  {
   "cell_type": "code",
   "execution_count": 3,
   "metadata": {
    "ExecuteTime": {
     "end_time": "2020-03-28T18:58:58.783279Z",
     "start_time": "2020-03-28T18:58:58.771802Z"
    }
   },
   "outputs": [
    {
     "name": "stdout",
     "output_type": "stream",
     "text": [
      "0.6\n"
     ]
    }
   ],
   "source": [
    "print(np.mean(beads == 'blue'))"
   ]
  },
  {
   "cell_type": "markdown",
   "metadata": {},
   "source": [
    "Let us simulate this event 10000 times and get the empirical probability of picking a blue ball. "
   ]
  },
  {
   "cell_type": "code",
   "execution_count": 4,
   "metadata": {
    "ExecuteTime": {
     "end_time": "2020-03-28T18:58:58.815074Z",
     "start_time": "2020-03-28T18:58:58.786306Z"
    }
   },
   "outputs": [
    {
     "name": "stdout",
     "output_type": "stream",
     "text": [
      "['blue' 'red' 'red' ... 'red' 'red' 'blue']\n"
     ]
    }
   ],
   "source": [
    "events = np.random.choice(beads,replace=True,size=10000)\n",
    "print(events)"
   ]
  },
  {
   "cell_type": "code",
   "execution_count": 5,
   "metadata": {
    "ExecuteTime": {
     "end_time": "2020-03-28T18:58:58.848435Z",
     "start_time": "2020-03-28T18:58:58.837630Z"
    }
   },
   "outputs": [
    {
     "name": "stdout",
     "output_type": "stream",
     "text": [
      "[['blue' '5967']\n",
      " ['red' '4033']]\n"
     ]
    }
   ],
   "source": [
    "num, count = np.unique(events, return_counts=True)\n",
    "freq = np.asarray((num, count)).T\n",
    "print(freq)"
   ]
  },
  {
   "cell_type": "code",
   "execution_count": 6,
   "metadata": {
    "ExecuteTime": {
     "end_time": "2020-03-28T18:58:58.915154Z",
     "start_time": "2020-03-28T18:58:58.854924Z"
    }
   },
   "outputs": [
    {
     "name": "stdout",
     "output_type": "stream",
     "text": [
      "The probability of picking a blue ball is  0.5967\n"
     ]
    }
   ],
   "source": [
    "print(\"The probability of picking a blue ball is \", np.mean(events == 'blue'))"
   ]
  },
  {
   "cell_type": "markdown",
   "metadata": {},
   "source": [
    "## Flip coins "
   ]
  },
  {
   "cell_type": "code",
   "execution_count": 7,
   "metadata": {},
   "outputs": [
    {
     "name": "stdout",
     "output_type": "stream",
     "text": [
      "The probability of seeing \"head\" is 0.5024\n"
     ]
    }
   ],
   "source": [
    "coin = ['head','tail']\n",
    "\n",
    "n_trails = 10000\n",
    "\n",
    "events = np.random.choice(coin, n_trails)\n",
    "\n",
    "print('The probability of seeing \"head\" is', np.mean(events=='head'))"
   ]
  },
  {
   "cell_type": "markdown",
   "metadata": {},
   "source": [
    "If you flip a coin 8 times:\n",
    "- What is the probability of getting exactly 3 heads?\n",
    "- What is the probability of getting more than 5 heads?"
   ]
  },
  {
   "cell_type": "code",
   "execution_count": 8,
   "metadata": {},
   "outputs": [
    {
     "name": "stdout",
     "output_type": "stream",
     "text": [
      "The probability of getting exactly 3 heads is 0.2196.\n"
     ]
    }
   ],
   "source": [
    "coin = [1,0] # head = 1, tail = 0 \n",
    "\n",
    "n_flips = 8 \n",
    "\n",
    "events = np.random.choice(coin, size=(n_trails, n_flips))\n",
    "prob = np.mean(events.sum(axis=1) == 3)\n",
    "print(f'The probability of getting exactly 3 heads is {prob}.')"
   ]
  },
  {
   "cell_type": "code",
   "execution_count": 9,
   "metadata": {},
   "outputs": [
    {
     "name": "stdout",
     "output_type": "stream",
     "text": [
      "The probability of getting more than 5 heads is 0.1485.\n"
     ]
    }
   ],
   "source": [
    "prob = np.mean(events.sum(axis=1) > 5)\n",
    "print(f'The probability of getting more than 5 heads is {prob}.')"
   ]
  },
  {
   "cell_type": "markdown",
   "metadata": {},
   "source": [
    "#### Sequence of coin flips \n",
    "\n",
    "If you flip a coin 4 times and recond the sequence:\n",
    "- What is the probability of getting 3 consecutive heads?\n",
    "- What is the probability of getting head-tail-head?"
   ]
  },
  {
   "cell_type": "code",
   "execution_count": 10,
   "metadata": {},
   "outputs": [
    {
     "data": {
      "text/plain": [
       "['TTTH', 'THHT', 'TTHT', 'TTHT', 'HTHT', 'THHT', 'HTTH', 'HTTH', 'HTHT']"
      ]
     },
     "execution_count": 10,
     "metadata": {},
     "output_type": "execute_result"
    }
   ],
   "source": [
    "coin = ['H','T']\n",
    "\n",
    "# start with simpler sequence then move to larger sequence \n",
    "n_flips = 4 \n",
    "\n",
    "events = np.random.choice(coin, size=(n_trails, n_flips))\n",
    "sequence = [''.join(i) for i in events.astype(str)]\n",
    "sequence[:9]"
   ]
  },
  {
   "cell_type": "code",
   "execution_count": 11,
   "metadata": {},
   "outputs": [
    {
     "data": {
      "text/plain": [
       "0.182"
      ]
     },
     "execution_count": 11,
     "metadata": {},
     "output_type": "execute_result"
    }
   ],
   "source": [
    "np.mean(pd.Series(sequence).str.contains('HHH'))"
   ]
  },
  {
   "cell_type": "code",
   "execution_count": 12,
   "metadata": {},
   "outputs": [
    {
     "data": {
      "image/png": "[encoded data removed]",
      "text/plain": [
       "<Figure size 432x288 with 1 Axes>"
      ]
     },
     "metadata": {
      "needs_background": "light"
     },
     "output_type": "display_data"
    }
   ],
   "source": [
    "sim_p = []\n",
    "for i in range(3,101):\n",
    "    events = np.random.choice(coin, size=(n_trails,i))\n",
    "    sequence = [''.join(c) for c in events.astype(str)]\n",
    "    p = np.mean(pd.Series(sequence).str.contains('HHH'))\n",
    "    sim_p.append(p)\n",
    "    \n",
    "plt.plot(np.arange(3,101), sim_p)\n",
    "# plt.axvline(x=17, color='r')\n",
    "plt.show()"
   ]
  },
  {
   "cell_type": "markdown",
   "metadata": {},
   "source": [
    "#### Unbalanced coin, binomial \n",
    "\n",
    "If you flip an unbalanced coin twice (p_head = 0.25, p_tail = 0.75), what is the probability of seeing a second head?"
   ]
  },
  {
   "cell_type": "code",
   "execution_count": 13,
   "metadata": {},
   "outputs": [
    {
     "name": "stdout",
     "output_type": "stream",
     "text": [
      "The probability of seeing two heads is 0.062.\n"
     ]
    }
   ],
   "source": [
    "coin = [1,0] # head = 1, tail = 0 \n",
    "n_trails = 50000\n",
    "\n",
    "events = np.random.choice(coin, size=(n_trails,2), p=[0.25, 0.75])\n",
    "prob = np.mean(events.sum(axis=1) == 2)\n",
    "print(f'The probability of seeing two heads is {prob}.')"
   ]
  },
  {
   "cell_type": "code",
   "execution_count": 14,
   "metadata": {},
   "outputs": [
    {
     "data": {
      "text/plain": [
       "array([[1, 1],\n",
       "       [0, 1],\n",
       "       [0, 0],\n",
       "       ...,\n",
       "       [0, 1],\n",
       "       [0, 0],\n",
       "       [0, 0]])"
      ]
     },
     "execution_count": 14,
     "metadata": {},
     "output_type": "execute_result"
    }
   ],
   "source": [
    "events"
   ]
  },
  {
   "cell_type": "code",
   "execution_count": 15,
   "metadata": {},
   "outputs": [
    {
     "name": "stdout",
     "output_type": "stream",
     "text": [
      "The conditional probability of seeing a second head is 0.2493163905420621.\n"
     ]
    }
   ],
   "source": [
    "prob = np.sum(events.sum(axis=1) == 2) / np.sum(events[:,0]==1)\n",
    "print(f'The conditional probability of seeing a second head is {prob}.')"
   ]
  },
  {
   "cell_type": "markdown",
   "metadata": {},
   "source": [
    "Theoretically, the conditional probability should be  0.25, as each coin flip is independent. "
   ]
  },
  {
   "cell_type": "markdown",
   "metadata": {},
   "source": [
    "## Playing poker \n",
    "\n",
    "Generate a poker pool of 13 x 4 = 52 cards. "
   ]
  },
  {
   "cell_type": "code",
   "execution_count": 16,
   "metadata": {
    "ExecuteTime": {
     "end_time": "2020-03-28T18:58:58.924640Z",
     "start_time": "2020-03-28T18:58:58.917959Z"
    }
   },
   "outputs": [],
   "source": [
    "from itertools import product, permutations, combinations \n",
    "\n",
    "def expand_grid(*itrs):\n",
    "    prod = list(product(*itrs))\n",
    "    return prod"
   ]
  },
  {
   "cell_type": "code",
   "execution_count": 17,
   "metadata": {
    "ExecuteTime": {
     "end_time": "2020-03-28T18:58:59.192457Z",
     "start_time": "2020-03-28T18:58:58.928594Z"
    }
   },
   "outputs": [
    {
     "data": {
      "text/plain": [
       "['Ace_Diamonds',\n",
       " 'Ace_Clubs',\n",
       " 'Ace_Hearts',\n",
       " 'Ace_Spades',\n",
       " 'Deuce_Diamonds',\n",
       " 'Deuce_Clubs',\n",
       " 'Deuce_Hearts',\n",
       " 'Deuce_Spades',\n",
       " 'Three_Diamonds',\n",
       " 'Three_Clubs']"
      ]
     },
     "execution_count": 17,
     "metadata": {},
     "output_type": "execute_result"
    }
   ],
   "source": [
    "suits = [\"Diamonds\", \"Clubs\", \"Hearts\", \"Spades\"]\n",
    "numbers = [\"Ace\", \"Deuce\", \"Three\", \"Four\", \"Five\", \"Six\", \"Seven\", \"Eight\", \"Nine\", \"Ten\", \"Jack\", \"Queen\", \"King\"]\n",
    "deck = expand_grid(numbers, suits)\n",
    "deck = ['_'.join(tups) for tups in deck] \n",
    "deck[:10]"
   ]
  },
  {
   "cell_type": "code",
   "execution_count": 18,
   "metadata": {
    "ExecuteTime": {
     "end_time": "2020-03-28T18:58:59.214838Z",
     "start_time": "2020-03-28T18:58:57.423Z"
    }
   },
   "outputs": [
    {
     "name": "stdout",
     "output_type": "stream",
     "text": [
      "['King_Diamonds', 'King_Clubs', 'King_Hearts', 'King_Spades']\n"
     ]
    }
   ],
   "source": [
    "kings = [i for i in deck if 'King' in i] \n",
    "print(kings) "
   ]
  },
  {
   "cell_type": "code",
   "execution_count": 19,
   "metadata": {
    "ExecuteTime": {
     "end_time": "2020-03-28T18:58:59.217699Z",
     "start_time": "2020-03-28T18:58:57.428Z"
    }
   },
   "outputs": [
    {
     "name": "stdout",
     "output_type": "stream",
     "text": [
      "The probability of picking a 'King' is 0.077\n"
     ]
    }
   ],
   "source": [
    "prob_king = np.mean(pd.Series(deck).isin(kings))\n",
    "print(\"The probability of picking a 'King' is %.3f\"%prob_king)"
   ]
  },
  {
   "cell_type": "code",
   "execution_count": 20,
   "metadata": {
    "ExecuteTime": {
     "end_time": "2020-03-28T18:58:59.220817Z",
     "start_time": "2020-03-28T18:58:57.433Z"
    }
   },
   "outputs": [
    {
     "data": {
      "text/plain": [
       "'Four_Hearts'"
      ]
     },
     "execution_count": 20,
     "metadata": {},
     "output_type": "execute_result"
    }
   ],
   "source": [
    "np.random.choice(deck)"
   ]
  },
  {
   "cell_type": "code",
   "execution_count": 21,
   "metadata": {
    "ExecuteTime": {
     "end_time": "2020-03-28T18:58:59.223287Z",
     "start_time": "2020-03-28T18:58:57.438Z"
    }
   },
   "outputs": [
    {
     "data": {
      "text/plain": [
       "True"
      ]
     },
     "execution_count": 21,
     "metadata": {},
     "output_type": "execute_result"
    }
   ],
   "source": [
    "check =  any(item in kings for item in deck)\n",
    "check"
   ]
  },
  {
   "cell_type": "code",
   "execution_count": 22,
   "metadata": {
    "ExecuteTime": {
     "end_time": "2020-03-28T18:58:59.226425Z",
     "start_time": "2020-03-28T18:58:57.444Z"
    }
   },
   "outputs": [
    {
     "data": {
      "text/plain": [
       "[('Ace_Diamonds', 'Ace_Clubs'),\n",
       " ('Ace_Diamonds', 'Ace_Hearts'),\n",
       " ('Ace_Diamonds', 'Ace_Spades'),\n",
       " ('Ace_Diamonds', 'Deuce_Diamonds'),\n",
       " ('Ace_Diamonds', 'Deuce_Clubs'),\n",
       " ('Ace_Diamonds', 'Deuce_Hearts'),\n",
       " ('Ace_Diamonds', 'Deuce_Spades'),\n",
       " ('Ace_Diamonds', 'Three_Diamonds'),\n",
       " ('Ace_Diamonds', 'Three_Clubs'),\n",
       " ('Ace_Diamonds', 'Three_Hearts')]"
      ]
     },
     "execution_count": 22,
     "metadata": {},
     "output_type": "execute_result"
    }
   ],
   "source": [
    "hands = list(permutations(deck,2))\n",
    "hands[:10]"
   ]
  },
  {
   "cell_type": "code",
   "execution_count": 23,
   "metadata": {
    "ExecuteTime": {
     "end_time": "2020-03-28T18:58:59.229751Z",
     "start_time": "2020-03-28T18:58:57.449Z"
    }
   },
   "outputs": [
    {
     "data": {
      "text/plain": [
       "[('King_Diamonds', 'King_Clubs'),\n",
       " ('King_Diamonds', 'King_Hearts'),\n",
       " ('King_Diamonds', 'King_Spades'),\n",
       " ('King_Clubs', 'King_Diamonds'),\n",
       " ('King_Clubs', 'King_Hearts'),\n",
       " ('King_Clubs', 'King_Spades'),\n",
       " ('King_Hearts', 'King_Diamonds'),\n",
       " ('King_Hearts', 'King_Clubs'),\n",
       " ('King_Hearts', 'King_Spades'),\n",
       " ('King_Spades', 'King_Diamonds'),\n",
       " ('King_Spades', 'King_Clubs'),\n",
       " ('King_Spades', 'King_Hearts')]"
      ]
     },
     "execution_count": 23,
     "metadata": {},
     "output_type": "execute_result"
    }
   ],
   "source": [
    "kings2 = [(i,j) for i,j in hands if 'King' in i and 'King' in j] \n",
    "kings2"
   ]
  },
  {
   "cell_type": "code",
   "execution_count": 24,
   "metadata": {
    "ExecuteTime": {
     "end_time": "2020-03-28T18:58:59.233349Z",
     "start_time": "2020-03-28T18:58:57.454Z"
    }
   },
   "outputs": [
    {
     "name": "stdout",
     "output_type": "stream",
     "text": [
      "The probability of picking two 'King's is 0.0045\n"
     ]
    }
   ],
   "source": [
    "prob_kings2 = np.mean(pd.Series(hands).isin(kings2)) \n",
    "print(\"The probability of picking two 'King's is %.4f\"%prob_kings2)"
   ]
  },
  {
   "cell_type": "code",
   "execution_count": 25,
   "metadata": {
    "ExecuteTime": {
     "end_time": "2020-03-28T18:58:59.248645Z",
     "start_time": "2020-03-28T18:58:57.461Z"
    }
   },
   "outputs": [
    {
     "name": "stdout",
     "output_type": "stream",
     "text": [
      "The condition probability of get a second king conditional on geting a first king is 0.0588\n"
     ]
    }
   ],
   "source": [
    "cprob_king2 = np.mean(pd.Series(hands).isin(kings2)) / np.mean(pd.Series(deck).isin(kings))\n",
    "print(\"The condition probability of get a second king conditional on geting a first king is %.4f\"%cprob_king2)"
   ]
  },
  {
   "cell_type": "markdown",
   "metadata": {},
   "source": [
    "## Rolling dice "
   ]
  },
  {
   "cell_type": "code",
   "execution_count": 26,
   "metadata": {},
   "outputs": [
    {
     "name": "stdout",
     "output_type": "stream",
     "text": [
      "The probability of rolling doubles on two dice is 0.164\n"
     ]
    }
   ],
   "source": [
    "dice = np.arange(1,7) \n",
    "# dice = [1,2,3,4,5,6]\n",
    "n = 10000\n",
    "k = 2 \n",
    "\n",
    "# Generate n trials of k dice\n",
    "rolls = np.random.choice(dice, size=(n,k))\n",
    "df = pd.DataFrame(rolls)\n",
    "df['doubles'] = df[0] == df[1]\n",
    "\n",
    "number_of_doubles = df.doubles.sum()\n",
    "chance = number_of_doubles / n \n",
    "print(\"The probability of rolling doubles on two dice is %.3f\"%chance)"
   ]
  },
  {
   "cell_type": "markdown",
   "metadata": {},
   "source": [
    "How many dice must be rolled to have at least 95% chance of rolling a six?"
   ]
  },
  {
   "cell_type": "code",
   "execution_count": 27,
   "metadata": {},
   "outputs": [],
   "source": [
    "n_trails = 10000\n",
    "n_dice = 17\n",
    "p_target = 0.95 "
   ]
  },
  {
   "cell_type": "code",
   "execution_count": 28,
   "metadata": {},
   "outputs": [
    {
     "data": {
      "text/plain": [
       "0.9558"
      ]
     },
     "execution_count": 28,
     "metadata": {},
     "output_type": "execute_result"
    }
   ],
   "source": [
    "rolls = np.random.choice(dice, size=(n_trails, n_dice))\n",
    "df = pd.DataFrame(rolls)\n",
    "df['has_six']  = [np.sum(df.iloc[i,:]==6) > 0 for i in range(df.shape[0])]\n",
    "prob = np.mean(df.has_six)\n",
    "prob"
   ]
  },
  {
   "cell_type": "markdown",
   "metadata": {},
   "source": [
    "Theoretically, the probability that none of dice turn up six is $(5/6)^n$, so the probability that at least one is six is $1-(5/6)^n$. \n",
    "\n",
    "Solving $1-(5/6)^n \\geq 0.95$, we have $n \\geq 17$."
   ]
  },
  {
   "cell_type": "markdown",
   "metadata": {},
   "source": [
    "## Birthday probability \n",
    "\n",
    "https://en.wikipedia.org/wiki/Birthday_problem\n",
    "\n",
    "https://codecalamity.com/the-birthday-paradox-the-proof-is-in-the-python/"
   ]
  },
  {
   "cell_type": "markdown",
   "metadata": {},
   "source": [
    "To compute the probability that at least two people in the class have the same birthday, we first calculate the probability that all people have different birthdays. \n",
    "\n",
    "\\begin{equation}\n",
    "\\begin{aligned}\n",
    "  P'(\\text{not shared birthdays}) = 1 - P(\\text{shared birthdays})\n",
    "\\end{aligned}\n",
    "\\end{equation}\n",
    "\n",
    "\n",
    "\n",
    "\\begin{equation}\n",
    "\\begin{aligned}\n",
    "  P'(n) &= 1 * (1-\\frac{1}{365}) * (1-\\frac{2}{365}) * (1-\\frac{3}{365}) ... * (1-\\frac{n-1}{365}) \\\\\n",
    "        &= \\frac{365!}{365^n * (365-n)!}\n",
    "\\end{aligned}\n",
    "\\end{equation}"
   ]
  },
  {
   "cell_type": "code",
   "execution_count": 29,
   "metadata": {
    "ExecuteTime": {
     "end_time": "2020-03-28T18:58:59.263441Z",
     "start_time": "2020-03-28T18:58:57.781Z"
    }
   },
   "outputs": [
    {
     "data": {
      "text/plain": [
       "0.5072972343239854"
      ]
     },
     "execution_count": 29,
     "metadata": {},
     "output_type": "execute_result"
    }
   ],
   "source": [
    "import math \n",
    "\n",
    "def atleast2_same_birthday_prob(n):\n",
    "    return 1 - math.factorial(365) / math.factorial(365-n) / math.pow(365,n)\n",
    "\n",
    "atleast2_same_birthday_prob(23)"
   ]
  },
  {
   "cell_type": "code",
   "execution_count": 30,
   "metadata": {
    "ExecuteTime": {
     "end_time": "2020-03-28T18:58:59.271220Z",
     "start_time": "2020-03-28T18:58:57.786Z"
    }
   },
   "outputs": [
    {
     "data": {
      "image/png": "[encoded data removed]",
      "text/plain": [
       "<Figure size 432x288 with 1 Axes>"
      ]
     },
     "metadata": {
      "needs_background": "light"
     },
     "output_type": "display_data"
    }
   ],
   "source": [
    "theoretic_prob = []\n",
    "for i in range(100):\n",
    "    theoretic_prob.append(atleast2_same_birthday_prob(i))\n",
    "\n",
    "plt.plot(np.arange(100),theoretic_prob )\n",
    "plt.show()"
   ]
  },
  {
   "cell_type": "code",
   "execution_count": 31,
   "metadata": {},
   "outputs": [
    {
     "name": "stdout",
     "output_type": "stream",
     "text": [
      "The chance of having at least 2 students share the same birthday is 0.5117\n"
     ]
    }
   ],
   "source": [
    "birthdays = np.arange(1,366)\n",
    "\n",
    "n_trials = 10000\n",
    "num_stu = 23\n",
    "\n",
    "events = np.random.choice(birthdays, size=(n_trials, num_stu))\n",
    "df = pd.DataFrame(events)\n",
    "df['unique_birthday'] = df.nunique(axis=1)\n",
    "df['has_same_birthday'] = df.unique_birthday < num_stu\n",
    "\n",
    "print('The chance of having at least 2 students share the same birthday is', df.has_same_birthday.mean())"
   ]
  },
  {
   "cell_type": "code",
   "execution_count": 32,
   "metadata": {
    "ExecuteTime": {
     "end_time": "2020-03-28T18:58:59.283810Z",
     "start_time": "2020-03-28T18:58:57.790Z"
    }
   },
   "outputs": [],
   "source": [
    "def random_birthdays(number_of_people):\n",
    "    first_day_of_year = date(2017, 1, 1)\n",
    "    return [first_day_of_year + timedelta(days=np.random.randint(0, 365))\n",
    "            for _ in range(number_of_people)]\n",
    "\n",
    "\n",
    "def determine_probability(number_of_people, run_amount=1000):\n",
    "    dups_found = 0\n",
    "    for _ in range(run_amount):\n",
    "        birthdays = random_birthdays(number_of_people)\n",
    "        duplicates = set(x for x in birthdays if birthdays.count(x) > 1)\n",
    "        if len(duplicates) >= 1:\n",
    "            dups_found += 1\n",
    "\n",
    "    return number_of_people, dups_found/run_amount * 100\n",
    "\n",
    "\n",
    "def plot_yearly_probabilities(max_people, vertical_markers=(23, 70)):\n",
    "    with Pool(processes=cpu_count()) as p:\n",
    "        percent_chances = p.map(determine_probability, range(max_people))\n",
    "\n",
    "    plt.plot([z[1] for z in sorted(percent_chances, key=lambda x: x[0])])\n",
    "    plt.xlabel(\"Number of people\")\n",
    "    plt.ylabel('Chance of sharing a birthday (Percentage)')\n",
    "\n",
    "    for marker in vertical_markers:\n",
    "        if max_people >= marker:\n",
    "            plt.axvline(x=marker, color='red')\n",
    "\n",
    "    plt.show()"
   ]
  },
  {
   "cell_type": "code",
   "execution_count": 33,
   "metadata": {
    "ExecuteTime": {
     "end_time": "2020-03-28T18:58:59.286955Z",
     "start_time": "2020-03-28T18:58:57.795Z"
    }
   },
   "outputs": [],
   "source": [
    "# plot_yearly_probabilities(100)"
   ]
  },
  {
   "cell_type": "code",
   "execution_count": 34,
   "metadata": {
    "ExecuteTime": {
     "end_time": "2020-03-28T18:58:59.289770Z",
     "start_time": "2020-03-28T18:58:57.799Z"
    }
   },
   "outputs": [
    {
     "data": {
      "text/plain": [
       "[<matplotlib.lines.Line2D at 0x2263645b370>]"
      ]
     },
     "execution_count": 34,
     "metadata": {},
     "output_type": "execute_result"
    },
    {
     "data": {
      "image/png": "[encoded data removed]",
      "text/plain": [
       "<Figure size 432x288 with 1 Axes>"
      ]
     },
     "metadata": {
      "needs_background": "light"
     },
     "output_type": "display_data"
    }
   ],
   "source": [
    "sim_p = []\n",
    "for i in range(1,1000):\n",
    "    _, p = determine_probability(22, run_amount=i)\n",
    "    sim_p.append(p)\n",
    "    \n",
    "plt.plot(np.arange(1,1000), sim_p)"
   ]
  },
  {
   "cell_type": "markdown",
   "metadata": {},
   "source": [
    "## Monty Hall Problem \n",
    "\n",
    "https://rosettacode.org/wiki/Monty_Hall_problem#Python_3_version\n",
    "\n",
    "https://scipython.com/book/chapter-4-the-core-python-language-ii/examples/the-monty-hall-problem/"
   ]
  },
  {
   "cell_type": "code",
   "execution_count": 35,
   "metadata": {
    "ExecuteTime": {
     "end_time": "2020-03-28T18:58:59.298451Z",
     "start_time": "2020-03-28T18:58:57.871Z"
    }
   },
   "outputs": [
    {
     "data": {
      "text/plain": [
       "(0.3335, 0.6665)"
      ]
     },
     "execution_count": 35,
     "metadata": {},
     "output_type": "execute_result"
    }
   ],
   "source": [
    "def monty_hall_prob(n):\n",
    "    stay = 0 \n",
    "    switch = 0 \n",
    "\n",
    "    for i in range(n):\n",
    "        lst = [1,0,0]\n",
    "        np.random.shuffle(lst)\n",
    "\n",
    "        ran = np.random.randint(3)\n",
    "        user = lst[ran]\n",
    "        del(lst[ran])\n",
    "\n",
    "        huh = 0 \n",
    "        for i in lst:\n",
    "            if i == 0:\n",
    "                del(lst[huh])\n",
    "                break\n",
    "            huh += 1 \n",
    "\n",
    "        if user == 1:\n",
    "            stay += 1 \n",
    "\n",
    "        if lst[0] == 1:\n",
    "            switch += 1 \n",
    "\n",
    "    return stay/n, switch/n\n",
    "\n",
    "monty_hall_prob(10000)"
   ]
  },
  {
   "cell_type": "markdown",
   "metadata": {},
   "source": [
    "## Casino gamble"
   ]
  },
  {
   "cell_type": "code",
   "execution_count": 36,
   "metadata": {
    "scrolled": true
   },
   "outputs": [
    {
     "data": {
      "text/plain": [
       "(52.5074, 31.492699872192606, -72, 176)"
      ]
     },
     "execution_count": 36,
     "metadata": {},
     "output_type": "execute_result"
    }
   ],
   "source": [
    "def casino_simu(b):\n",
    "    s = []\n",
    "    for i in range(b):\n",
    "        x = np.random.choice([-1,1], p=[9/19, 10/19], size=1000, replace=True)\n",
    "        s.append(x.sum())\n",
    "    return s \n",
    "\n",
    "s = casino_simu(10000)\n",
    "np.mean(s), np.std(s), np.min(s), np.max(s) "
   ]
  },
  {
   "cell_type": "code",
   "execution_count": 37,
   "metadata": {},
   "outputs": [
    {
     "data": {
      "text/plain": [
       "0.04673025360293572"
      ]
     },
     "execution_count": 37,
     "metadata": {},
     "output_type": "execute_result"
    }
   ],
   "source": [
    "import scipy.stats as scs \n",
    "\n",
    "scs.norm.cdf(0, 52, 31)"
   ]
  },
  {
   "cell_type": "code",
   "execution_count": 38,
   "metadata": {
    "scrolled": true
   },
   "outputs": [
    {
     "data": {
      "image/png": "[encoded data removed]",
      "text/plain": [
       "<Figure size 432x288 with 1 Axes>"
      ]
     },
     "metadata": {
      "needs_background": "light"
     },
     "output_type": "display_data"
    }
   ],
   "source": [
    "plt.hist(s)\n",
    "plt.show()"
   ]
  },
  {
   "cell_type": "markdown",
   "metadata": {},
   "source": [
    "## Default rate "
   ]
  },
  {
   "cell_type": "code",
   "execution_count": 39,
   "metadata": {},
   "outputs": [],
   "source": [
    "def default_simu(b):\n",
    "    s = []\n",
    "    for i in range(b):\n",
    "        defaults = np.random.choice([0,1], p=[1-pd, pd], size=n, replace=True)\n",
    "        s.append(np.sum(defaults*loss))\n",
    "    return s "
   ]
  },
  {
   "cell_type": "code",
   "execution_count": 40,
   "metadata": {},
   "outputs": [
    {
     "data": {
      "text/plain": [
       "(-3998320.0, 886352.7388122631)"
      ]
     },
     "execution_count": 40,
     "metadata": {},
     "output_type": "execute_result"
    }
   ],
   "source": [
    "n = 1000\n",
    "loss = -200000\n",
    "pd = 0.02 \n",
    "loan = 180000\n",
    "\n",
    "s = default_simu(10000)\n",
    "np.mean(s), np.std(s) \n"
   ]
  },
  {
   "cell_type": "code",
   "execution_count": 41,
   "metadata": {},
   "outputs": [
    {
     "data": {
      "text/plain": [
       "(-4000000.0, 885437.7448471461)"
      ]
     },
     "execution_count": 41,
     "metadata": {},
     "output_type": "execute_result"
    }
   ],
   "source": [
    "mu = n*loss*pd\n",
    "sde = math.sqrt(n) * abs(loss) * math.sqrt(pd*(1-pd))\n",
    "mu, sde"
   ]
  },
  {
   "cell_type": "code",
   "execution_count": 42,
   "metadata": {},
   "outputs": [
    {
     "data": {
      "text/plain": [
       "0.022675736961451247"
      ]
     },
     "execution_count": 42,
     "metadata": {},
     "output_type": "execute_result"
    }
   ],
   "source": [
    "loan_rates = -loss*pd/(1-pd)\n",
    "loan_rates/loan"
   ]
  },
  {
   "cell_type": "code",
   "execution_count": 43,
   "metadata": {},
   "outputs": [],
   "source": [
    "z = scs.norm.ppf(0.01)"
   ]
  },
  {
   "cell_type": "code",
   "execution_count": 44,
   "metadata": {},
   "outputs": [
    {
     "data": {
      "text/plain": [
       "6249.181290832119"
      ]
     },
     "execution_count": 44,
     "metadata": {},
     "output_type": "execute_result"
    }
   ],
   "source": [
    "loan_rates = -loss*( n*pd - z*math.sqrt(n*pd*(1-pd)))/ ( n*(1-pd) + z*math.sqrt(n*pd*(1-pd)))\n",
    "loan_rates"
   ]
  },
  {
   "cell_type": "markdown",
   "metadata": {},
   "source": [
    "## Insurance premium\n",
    "\n",
    "Use the information below as you answer this 6-part question.\n",
    "\n",
    "An insurance company offers a one-year term life insurance policy that pays \\\\$150,000 in the event of death within one year. The premium (annual cost) for this policy for a 50 year old female is \\\\$1,150. Suppose that in the event of a claim, the company forfeits the premium and loses a total of \\\\$150,000, and if there is no claim the company gains the premium amount of \\\\$1,150. The company plans to sell 1,000 policies to this demographic.\n",
    "\n",
    "The loss in the event of the policy holder's death is -\\\\$150,000 and the gain if the policy holder remains alive is the premium \\\\$1,150.\n"
   ]
  },
  {
   "cell_type": "code",
   "execution_count": 45,
   "metadata": {},
   "outputs": [],
   "source": [
    "loss = -150000\n",
    "premium = 1150 \n",
    "n = 1000\n",
    "pd_f = 0.003193\n",
    "pd_m = 0.005013 "
   ]
  },
  {
   "cell_type": "markdown",
   "metadata": {},
   "source": [
    "What is the expected value of the company's net profit on one policy for a 50 year old female? \n",
    "\n",
    "What is the standard error of the profit on one policy for a 50 year old female? "
   ]
  },
  {
   "cell_type": "code",
   "execution_count": 46,
   "metadata": {},
   "outputs": [
    {
     "data": {
      "text/plain": [
       "(667.37805, 8527.331575345139)"
      ]
     },
     "execution_count": 46,
     "metadata": {},
     "output_type": "execute_result"
    }
   ],
   "source": [
    "profit = premium * (1-pd_f) + loss * pd_f\n",
    "profit_se = (premium - loss) * math.sqrt(pd_f*(1-pd_f))\n",
    "profit, profit_se"
   ]
  },
  {
   "cell_type": "markdown",
   "metadata": {},
   "source": [
    "What is the expected value of the company's profit over all 1,000 policies for 50 year old females?\n",
    "\n",
    "What is the standard error of the sum of the expected value over all 1,000 policies for 50 year old females?"
   ]
  },
  {
   "cell_type": "code",
   "execution_count": 47,
   "metadata": {},
   "outputs": [
    {
     "data": {
      "text/plain": [
       "(667378.05, 269657.90141562367)"
      ]
     },
     "execution_count": 47,
     "metadata": {},
     "output_type": "execute_result"
    }
   ],
   "source": [
    "profits = (premium * (1-pd_f) + loss * pd_f) * n \n",
    "profits_se = (premium - loss) * math.sqrt(n*pd_f*(1-pd_f))\n",
    "profits, profits_se"
   ]
  },
  {
   "cell_type": "markdown",
   "metadata": {},
   "source": [
    "Use the Central Limit Theorem to calculate the probability that the insurance company loses money on this set of 1,000 policies."
   ]
  },
  {
   "cell_type": "code",
   "execution_count": 48,
   "metadata": {},
   "outputs": [
    {
     "data": {
      "text/plain": [
       "0.006663556018918071"
      ]
     },
     "execution_count": 48,
     "metadata": {},
     "output_type": "execute_result"
    }
   ],
   "source": [
    "scs.norm.cdf(0,profits, profits_se)"
   ]
  },
  {
   "cell_type": "markdown",
   "metadata": {},
   "source": [
    "50 year old males have a different probability of death than 50 year old females. We will calculate a profitable premium for 50 year old males in the following four-part question.\n",
    "\n",
    "Suppose the company wants its expected profits from 1,000 number of 50 year old males with \\\\$150,000 life insurance policies to be \\\\$700,000. \n",
    "\n",
    "What premium should be charged?\n",
    "\n",
    "Using the new 50 year old male premium rate, calculate the standard error of the sum of 1,000 premiums.\n",
    "\n",
    "What is the probability of losing money on a series of 1,000 policies to 50 year old males?"
   ]
  },
  {
   "cell_type": "code",
   "execution_count": 49,
   "metadata": {},
   "outputs": [
    {
     "data": {
      "text/plain": [
       "(392285.04999999993, 337571.448358783)"
      ]
     },
     "execution_count": 49,
     "metadata": {},
     "output_type": "execute_result"
    }
   ],
   "source": [
    "profits = (premium * (1-pd_m) + loss * pd_m) * n \n",
    "profits_se = (premium - loss) * math.sqrt(n*pd_m*(1-pd_m))\n",
    "profits, profits_se"
   ]
  },
  {
   "cell_type": "code",
   "execution_count": 50,
   "metadata": {},
   "outputs": [
    {
     "data": {
      "text/plain": [
       "1459.265296933528"
      ]
     },
     "execution_count": 50,
     "metadata": {},
     "output_type": "execute_result"
    }
   ],
   "source": [
    "targetprofits = 700000\n",
    "new_premium = (targetprofits/n - loss * pd_m) / (1-pd_m)\n",
    "new_premium"
   ]
  },
  {
   "cell_type": "code",
   "execution_count": 51,
   "metadata": {},
   "outputs": [
    {
     "data": {
      "text/plain": [
       "309.2652969335279"
      ]
     },
     "execution_count": 51,
     "metadata": {},
     "output_type": "execute_result"
    }
   ],
   "source": [
    "new_premium - premium"
   ]
  },
  {
   "cell_type": "code",
   "execution_count": 52,
   "metadata": {},
   "outputs": [
    {
     "data": {
      "text/plain": [
       "338262.1472288654"
      ]
     },
     "execution_count": 52,
     "metadata": {},
     "output_type": "execute_result"
    }
   ],
   "source": [
    "new_se = (new_premium - loss) * math.sqrt(n*pd_m*(1-pd_m))\n",
    "new_se"
   ]
  },
  {
   "cell_type": "code",
   "execution_count": 53,
   "metadata": {},
   "outputs": [
    {
     "data": {
      "text/plain": [
       "0.019254239946609984"
      ]
     },
     "execution_count": 53,
     "metadata": {},
     "output_type": "execute_result"
    }
   ],
   "source": [
    "scs.norm.cdf(0,targetprofits, new_se)"
   ]
  }
 ],
 "metadata": {
  "kernelspec": {
   "display_name": "Python 3",
   "language": "python",
   "name": "python3"
  },
  "language_info": {
   "codemirror_mode": {
    "name": "ipython",
    "version": 3
   },
   "file_extension": ".py",
   "mimetype": "text/x-python",
   "name": "python",
   "nbconvert_exporter": "python",
   "pygments_lexer": "ipython3",
   "version": "3.8.5"
  },
  "toc": {
   "base_numbering": 1,
   "nav_menu": {},
   "number_sections": true,
   "sideBar": true,
   "skip_h1_title": false,
   "title_cell": "Table of Contents",
   "title_sidebar": "Contents",
   "toc_cell": false,
   "toc_position": {},
   "toc_section_display": true,
   "toc_window_display": false
  },
  "varInspector": {
   "cols": {
    "lenName": 16,
    "lenType": 16,
    "lenVar": 40
   },
   "kernels_config": {
    "python": {
     "delete_cmd_postfix": "",
     "delete_cmd_prefix": "del ",
     "library": "var_list.py",
     "varRefreshCmd": "print(var_dic_list())"
    },
    "r": {
     "delete_cmd_postfix": ") ",
     "delete_cmd_prefix": "rm(",
     "library": "var_list.r",
     "varRefreshCmd": "cat(var_dic_list()) "
    }
   },
   "types_to_exclude": [
    "module",
    "function",
    "builtin_function_or_method",
    "instance",
    "_Feature"
   ],
   "window_display": false
  }
 },
 "nbformat": 4,
 "nbformat_minor": 2
}
